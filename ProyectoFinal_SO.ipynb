{
 "cells": [
  {
   "cell_type": "markdown",
   "metadata": {},
   "source": [
    "# Sistemas Operativos \n",
    "# Ciencias de la Coputacion \n",
    "# Proyecto Final: Simulador de RR y Shortest Remaining Time First\n",
    "\n",
    "## Hugo A. Eguino A.\n",
    "## Prof. Donald Jose Rodriguez Ubeda\n",
    "\n",
    "\n"
   ]
  },
  {
   "cell_type": "markdown",
   "metadata": {},
   "source": [
    "En este proyecto desarrollaremos un simulador que cumpla con las siguientes características:\n",
    "    1. Genere modelos de colas. \n",
    "    2. Simule el algoritmo de RR y Shortest Remaining Time First.\n",
    "    3. Las tablas de resultados obtenidas en el punto anterior y una grafica de comparación. \n",
    "    "
   ]
  },
  {
   "cell_type": "markdown",
   "metadata": {},
   "source": [
    "Comenzare haciendo el código del algoritmo de RR. Primeros cree una función que hará gran parte del proceso."
   ]
  },
  {
   "cell_type": "code",
   "execution_count": 17,
   "metadata": {},
   "outputs": [],
   "source": [
    "def findWaitingTimeRR(processes, n, bt, wt, quantum):  \n",
    "    rem_bt = [0] * n \n",
    "  \n",
    "    #Copie el timpo de la rafaga en rt[]  \n",
    "    for i in range(n):  \n",
    "        rem_bt[i] = bt[i] \n",
    "    t = 0 #Tiempo actual \n",
    "  \n",
    "    #Se \"Ejecutan\" los procesos hasta \n",
    "    #que todos finalicen, usando Raund Robin\"  \n",
    "    while(1): \n",
    "        done = True\n",
    "  \n",
    "        #Se recorren los procesos uno por uno  \n",
    "        for i in range(n): \n",
    "               \n",
    "            #Si el etimepo de la rafaga del procesos es \n",
    "            #mayor a 0, se procesa mas \n",
    "            if (rem_bt[i] > 0) : \n",
    "                done = False #Si hay un procesos pendiente \n",
    "              \n",
    "                if (rem_bt[i] > quantum) : \n",
    "                   \n",
    "                    #Muestra cuanto se ha procesado un procesos\n",
    "                    t += quantum  \n",
    "  \n",
    "                    #Disminur el tiempo del proceso \n",
    "                    rem_bt[i] -= quantum  \n",
    "                   \n",
    "                #Si el tiempo de menor o igual al quantum,\n",
    "                #este seria el ultimo ciclo de este proceso \n",
    "                else: \n",
    "                  \n",
    "                    #Incrementa el valor de cuanto tiempo \n",
    "                    #se a procesado un procesos  \n",
    "                    t = t + rem_bt[i]  \n",
    "  \n",
    "                    #Tiempo de espera que es el tiempo actual \n",
    "                    #menos el tiempo utilizado en el procesos\n",
    "                    wt[i] = t - bt[i]  \n",
    "  \n",
    "                    #conforme el tiempo se ejecuta por completo,\n",
    "                    #su timepo restante es 0\n",
    "                    rem_bt[i] = 0\n",
    "                  \n",
    "        #Si todo los procesos finalisan \n",
    "        if (done == True): \n",
    "            break        "
   ]
  },
  {
   "cell_type": "markdown",
   "metadata": {},
   "source": [
    "Después ingresaremos el código de la función que calcula el tiempo de respuesta"
   ]
  },
  {
   "cell_type": "code",
   "execution_count": 18,
   "metadata": {},
   "outputs": [],
   "source": [
    "def findTurnAroundTimeRR(processes, n, bt, wt, tat):   \n",
    "    for i in range(n): \n",
    "        tat[i] = bt[i] + wt[i]  "
   ]
  },
  {
   "cell_type": "markdown",
   "metadata": {},
   "source": [
    "Aquí se llama a las distintas funciones y se muestran los resultados"
   ]
  },
  {
   "cell_type": "code",
   "execution_count": 19,
   "metadata": {},
   "outputs": [],
   "source": [
    "def findavgTimeRR(processes, n, bt, quantum):  \n",
    "    wt = [0] * n \n",
    "    tat = [0] * n  \n",
    "    \n",
    "    findWaitingTimeRR(processes, n, bt,  \n",
    "                         wt, quantum)  \n",
    "    \n",
    "    findTurnAroundTimeRR(processes, n, bt, \n",
    "                                wt, tat)  \n",
    "  \n",
    "    print(\"Proceso         CPU     Espera\",  \n",
    "                     \"Tiempo    Tiempo de respeusta\") \n",
    "    total_wt = 0\n",
    "    total_tat = 0\n",
    "    for i in range(n): \n",
    "  \n",
    "        total_wt = total_wt + wt[i]  \n",
    "        total_tat = total_tat + tat[i]  \n",
    "        print(\" \", i + 1, \"\\t\\t\", bt[i],  \n",
    "              \"\\t\\t\", wt[i], \"\\t\\t\", tat[i]) \n",
    "  \n",
    "    print(\"\\nTiempo promedio de espera = %.5f \"%(total_wt /n) ) \n",
    "    print(\"Tiempo promedio de respuesta = %.5f \"% (total_tat / n))  "
   ]
  },
  {
   "cell_type": "markdown",
   "metadata": {},
   "source": [
    "Ingresamos los datos de los procesos y ejecutamos "
   ]
  },
  {
   "cell_type": "code",
   "execution_count": 20,
   "metadata": {},
   "outputs": [
    {
     "name": "stdout",
     "output_type": "stream",
     "text": [
      "Proceso         CPU     Espera Tiempo    Tiempo de respeusta\n",
      "  1 \t\t 6 \t\t 0 \t\t 6\n",
      "  2 \t\t 8 \t\t 15 \t\t 23\n",
      "  3 \t\t 7 \t\t 17 \t\t 24\n",
      "  4 \t\t 3 \t\t 18 \t\t 21\n",
      "\n",
      "Tiempo promedio de espera = 12.50000 \n",
      "Tiempo promedio de respuesta = 18.50000 \n"
     ]
    }
   ],
   "source": [
    "# Driver code  \n",
    "if __name__ ==\"__main__\": \n",
    "      \n",
    "    proc = [1, 2, 3, 4] \n",
    "    n = 4\n",
    "  \n",
    "    burst_time = [6, 8, 7, 3]  \n",
    "  \n",
    "    # Time quantum  \n",
    "    quantum = 6;  \n",
    "    findavgTimeRR(proc, n, burst_time, quantum)  "
   ]
  },
  {
   "cell_type": "markdown",
   "metadata": {},
   "source": [
    "Ahora haré el algoritmo de Shortest Remaining Time First, al igual que en el anterior creare la función que hace la mayor parte del trabajo "
   ]
  },
  {
   "cell_type": "code",
   "execution_count": 21,
   "metadata": {},
   "outputs": [],
   "source": [
    "def findWaitingTimeSRTF(processes, n, wt):  \n",
    "    rt = [0] * n \n",
    "  \n",
    "    # Copy the burst time into rt[]  \n",
    "    for i in range(n):  \n",
    "        rt[i] = processes[i][1] \n",
    "    complete = 0\n",
    "    t = 0\n",
    "    minm = 999999999\n",
    "    short = 0\n",
    "    check = False\n",
    "   \n",
    "    #Se ejecutan todos los procesos \n",
    "    #hasta que todos finalisen\n",
    "    while (complete != n): \n",
    "           \n",
    "        #Se busca el proceso con el tiempo restante\n",
    "        #minimo entre todos\n",
    "        for j in range(n): \n",
    "            if ((processes[j][2] <= t) and \n",
    "                (rt[j] < minm) and rt[j] > 0): \n",
    "                minm = rt[j] \n",
    "                short = j \n",
    "                check = True\n",
    "        if (check == False): \n",
    "            t += 1\n",
    "            continue\n",
    "            \n",
    "        #Se reduce el tiempo restante\n",
    "        rt[short] -= 1\n",
    "  \n",
    "        #Se actulisa el minimo \n",
    "        minm = rt[short]  \n",
    "        if (minm == 0):  \n",
    "            minm = 999999999\n",
    "  \n",
    "        #Si un proceso ya se ejecuto por completo\n",
    "        if (rt[short] == 0):  \n",
    "  \n",
    "            #Se incrementar completados   \n",
    "            complete += 1\n",
    "            check = False\n",
    "   \n",
    "            #Hora en la que finaliso el  \n",
    "            #proeceso actual \n",
    "            fint = t + 1\n",
    "  \n",
    "            #Se calcula el tiempo de espera   \n",
    "            wt[short] = (fint - proc[short][1] -    \n",
    "                                proc[short][2]) \n",
    "  \n",
    "            if (wt[short] < 0): \n",
    "                wt[short] = 0\n",
    "          \n",
    "        #Ingrementa el tie po  \n",
    "        t += 1"
   ]
  },
  {
   "cell_type": "markdown",
   "metadata": {},
   "source": [
    "Después hacemos el función que calcula el tiempo de respuesta"
   ]
  },
  {
   "cell_type": "code",
   "execution_count": 22,
   "metadata": {},
   "outputs": [],
   "source": [
    "def findTurnAroundTimeSRTF(processes, n, wt, tat):  \n",
    "      \n",
    "    for i in range(n): \n",
    "        tat[i] = processes[i][1] + wt[i]  "
   ]
  },
  {
   "cell_type": "markdown",
   "metadata": {},
   "source": [
    "La ultima función que calculamos es la que calcula el tiempo promedio de espera y de respuesta"
   ]
  },
  {
   "cell_type": "code",
   "execution_count": 26,
   "metadata": {},
   "outputs": [],
   "source": [
    "def findavgTimeSRTF(processes, n):  \n",
    "    wt = [0] * n \n",
    "    tat = [0] * n  \n",
    "  \n",
    "    findWaitingTimeSRTF(processes, n, wt)  \n",
    "   \n",
    "    findTurnAroundTimeSRTF(processes, n, wt, tat)  \n",
    "  \n",
    "    print(\"Proceso          CPU    Tiempo\",  \n",
    "                    \"de espera  Tiempo de respeusta\") \n",
    "    total_wt = 0\n",
    "    total_tat = 0\n",
    "    for i in range(n): \n",
    "  \n",
    "        total_wt = total_wt + wt[i]  \n",
    "        total_tat = total_tat + tat[i]  \n",
    "        print(\" \", processes[i][0], \"\\t\\t\",  \n",
    "                   processes[i][1], \"\\t\\t\",  \n",
    "                   wt[i], \"\\t\\t\", tat[i]) \n",
    "  \n",
    "    print(\"\\nTiempo promedio de espera = %.5f \"%(total_wt /n) ) \n",
    "    print(\"Tiempo promedio de respuesta = \", total_tat / n)  "
   ]
  },
  {
   "cell_type": "markdown",
   "metadata": {},
   "source": [
    "Definimos los parámetros para la ejecución "
   ]
  },
  {
   "cell_type": "code",
   "execution_count": 27,
   "metadata": {},
   "outputs": [
    {
     "name": "stdout",
     "output_type": "stream",
     "text": [
      "Proceso          CPU    Tiempo de espera  Tiempo de respeusta\n",
      "  1 \t\t 6 \t\t 3 \t\t 9\n",
      "  2 \t\t 8 \t\t 16 \t\t 24\n",
      "  3 \t\t 7 \t\t 8 \t\t 15\n",
      "  4 \t\t 3 \t\t 0 \t\t 3\n",
      "\n",
      "Tiempo promedio de espera = 6.75000 \n",
      "Tiempo promedio de respuesta =  12.75\n"
     ]
    }
   ],
   "source": [
    "if __name__ ==\"__main__\": \n",
    "      \n",
    "            #Preceso, CPU y Tiempo de llegada\n",
    "    proc = [[1, 6, 1], \n",
    "            [2, 8, 1], \n",
    "            [3, 7, 2], \n",
    "            [4, 3, 3]] \n",
    "    n = 4\n",
    "    findavgTimeSRTF(proc, n) "
   ]
  },
  {
   "cell_type": "markdown",
   "metadata": {},
   "source": [
    "# Con los datos obtenidos de los dos algoritmos y las graficas, analizamos los resultados "
   ]
  },
  {
   "cell_type": "markdown",
   "metadata": {},
   "source": [
    "# Resultados Round Robin \n"
   ]
  },
  {
   "cell_type": "markdown",
   "metadata": {},
   "source": [
    "<img src=\"Imagenes/grafica1.png\">"
   ]
  },
  {
   "cell_type": "markdown",
   "metadata": {},
   "source": [
    "# Resultados Shortest Remaining Time First"
   ]
  },
  {
   "cell_type": "markdown",
   "metadata": {},
   "source": [
    "<img src=\"Imagenes/grafica2.png\">"
   ]
  },
  {
   "cell_type": "markdown",
   "metadata": {},
   "source": [
    "# Grafica de los promedios de espera y respuesta"
   ]
  },
  {
   "cell_type": "markdown",
   "metadata": {},
   "source": [
    "<img src=\"Imagenes/grafica4.png\" width=\"400\">"
   ]
  },
  {
   "cell_type": "markdown",
   "metadata": {},
   "source": [
    "# Grafica de tiempos de espera y tiempos de respuesta "
   ]
  },
  {
   "cell_type": "markdown",
   "metadata": {},
   "source": [
    "<img src=\"Imagenes/grafica3.png\" width=\"400\">"
   ]
  },
  {
   "cell_type": "markdown",
   "metadata": {},
   "source": [
    "TE = Roundo robin Tiempo de espera, TR = Tiempo de Respeuesta \n"
   ]
  },
  {
   "cell_type": "markdown",
   "metadata": {},
   "source": [
    "Con los datos que se obtienen de cada algoritmo, lo primero que se nota es que en promedio con SRTF, los procesos tienen una espera menor por lo que también tienen un tiempo de respuesta menor. También en la segunda grafica el Tiempo de espera y respuesta en los primeros procesos es menor en RR que en SRTF pero después en SRTF baja muy drásticamente. Para este prueba use el mismo tiempo de CPU, los parámetros que cambian son los que cada algoritmo usa. "
   ]
  },
  {
   "cell_type": "markdown",
   "metadata": {},
   "source": [
    "En conclusión con esta prueba que hice y otras más que no mostré, se nota que SRTF hace que los procesos no esperen tanto. Para que el algoritmo de RR sea más eficiente se tendría que subir el Quantum y aun así queda un poco por arriba en los tiempo, en comparación con SRTF.\n"
   ]
  }
 ],
 "metadata": {
  "kernelspec": {
   "display_name": "Python 3",
   "language": "python",
   "name": "python3"
  },
  "language_info": {
   "codemirror_mode": {
    "name": "ipython",
    "version": 3
   },
   "file_extension": ".py",
   "mimetype": "text/x-python",
   "name": "python",
   "nbconvert_exporter": "python",
   "pygments_lexer": "ipython3",
   "version": "3.8.3"
  }
 },
 "nbformat": 4,
 "nbformat_minor": 4
}
